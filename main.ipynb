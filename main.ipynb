{
 "cells": [
  {
   "cell_type": "code",
   "execution_count": 1,
   "id": "b6bb930a",
   "metadata": {},
   "outputs": [],
   "source": [
    "import pandas as pd"
   ]
  },
  {
   "cell_type": "code",
   "execution_count": 2,
   "id": "b9f3a0ba",
   "metadata": {},
   "outputs": [],
   "source": [
    "movies = pd.read_csv('dataset.csv')"
   ]
  },
  {
   "cell_type": "code",
   "execution_count": 3,
   "id": "01137c47",
   "metadata": {},
   "outputs": [
    {
     "data": {
      "text/html": [
       "<div>\n",
       "<style scoped>\n",
       "    .dataframe tbody tr th:only-of-type {\n",
       "        vertical-align: middle;\n",
       "    }\n",
       "\n",
       "    .dataframe tbody tr th {\n",
       "        vertical-align: top;\n",
       "    }\n",
       "\n",
       "    .dataframe thead th {\n",
       "        text-align: right;\n",
       "    }\n",
       "</style>\n",
       "<table border=\"1\" class=\"dataframe\">\n",
       "  <thead>\n",
       "    <tr style=\"text-align: right;\">\n",
       "      <th></th>\n",
       "      <th>id</th>\n",
       "      <th>title</th>\n",
       "      <th>genre</th>\n",
       "      <th>original_language</th>\n",
       "      <th>overview</th>\n",
       "      <th>popularity</th>\n",
       "      <th>release_date</th>\n",
       "      <th>vote_average</th>\n",
       "      <th>vote_count</th>\n",
       "    </tr>\n",
       "  </thead>\n",
       "  <tbody>\n",
       "    <tr>\n",
       "      <th>0</th>\n",
       "      <td>278</td>\n",
       "      <td>The Shawshank Redemption</td>\n",
       "      <td>Drama,Crime</td>\n",
       "      <td>en</td>\n",
       "      <td>Framed in the 1940s for the double murder of h...</td>\n",
       "      <td>94.075</td>\n",
       "      <td>1994-09-23</td>\n",
       "      <td>8.7</td>\n",
       "      <td>21862</td>\n",
       "    </tr>\n",
       "    <tr>\n",
       "      <th>1</th>\n",
       "      <td>19404</td>\n",
       "      <td>Dilwale Dulhania Le Jayenge</td>\n",
       "      <td>Comedy,Drama,Romance</td>\n",
       "      <td>hi</td>\n",
       "      <td>Raj is a rich, carefree, happy-go-lucky second...</td>\n",
       "      <td>25.408</td>\n",
       "      <td>1995-10-19</td>\n",
       "      <td>8.7</td>\n",
       "      <td>3731</td>\n",
       "    </tr>\n",
       "    <tr>\n",
       "      <th>2</th>\n",
       "      <td>238</td>\n",
       "      <td>The Godfather</td>\n",
       "      <td>Drama,Crime</td>\n",
       "      <td>en</td>\n",
       "      <td>Spanning the years 1945 to 1955, a chronicle o...</td>\n",
       "      <td>90.585</td>\n",
       "      <td>1972-03-14</td>\n",
       "      <td>8.7</td>\n",
       "      <td>16280</td>\n",
       "    </tr>\n",
       "    <tr>\n",
       "      <th>3</th>\n",
       "      <td>424</td>\n",
       "      <td>Schindler's List</td>\n",
       "      <td>Drama,History,War</td>\n",
       "      <td>en</td>\n",
       "      <td>The true story of how businessman Oskar Schind...</td>\n",
       "      <td>44.761</td>\n",
       "      <td>1993-12-15</td>\n",
       "      <td>8.6</td>\n",
       "      <td>12959</td>\n",
       "    </tr>\n",
       "    <tr>\n",
       "      <th>4</th>\n",
       "      <td>240</td>\n",
       "      <td>The Godfather: Part II</td>\n",
       "      <td>Drama,Crime</td>\n",
       "      <td>en</td>\n",
       "      <td>In the continuing saga of the Corleone crime f...</td>\n",
       "      <td>57.749</td>\n",
       "      <td>1974-12-20</td>\n",
       "      <td>8.6</td>\n",
       "      <td>9811</td>\n",
       "    </tr>\n",
       "    <tr>\n",
       "      <th>5</th>\n",
       "      <td>667257</td>\n",
       "      <td>Impossible Things</td>\n",
       "      <td>Family,Drama</td>\n",
       "      <td>es</td>\n",
       "      <td>Matilde is a woman who, after the death of her...</td>\n",
       "      <td>14.358</td>\n",
       "      <td>2021-06-17</td>\n",
       "      <td>8.6</td>\n",
       "      <td>255</td>\n",
       "    </tr>\n",
       "    <tr>\n",
       "      <th>6</th>\n",
       "      <td>129</td>\n",
       "      <td>Spirited Away</td>\n",
       "      <td>Animation,Family,Fantasy</td>\n",
       "      <td>ja</td>\n",
       "      <td>A young girl, Chihiro, becomes trapped in a st...</td>\n",
       "      <td>92.056</td>\n",
       "      <td>2001-07-20</td>\n",
       "      <td>8.5</td>\n",
       "      <td>13093</td>\n",
       "    </tr>\n",
       "    <tr>\n",
       "      <th>7</th>\n",
       "      <td>730154</td>\n",
       "      <td>Your Eyes Tell</td>\n",
       "      <td>Romance,Drama</td>\n",
       "      <td>ja</td>\n",
       "      <td>A tragic accident lead to Kaori's blindness, b...</td>\n",
       "      <td>51.345</td>\n",
       "      <td>2020-10-23</td>\n",
       "      <td>8.5</td>\n",
       "      <td>339</td>\n",
       "    </tr>\n",
       "    <tr>\n",
       "      <th>8</th>\n",
       "      <td>372754</td>\n",
       "      <td>Dou kyu sei – Classmates</td>\n",
       "      <td>Romance,Animation</td>\n",
       "      <td>ja</td>\n",
       "      <td>Rihito Sajo, an honor student with a perfect s...</td>\n",
       "      <td>14.285</td>\n",
       "      <td>2016-02-20</td>\n",
       "      <td>8.5</td>\n",
       "      <td>239</td>\n",
       "    </tr>\n",
       "    <tr>\n",
       "      <th>9</th>\n",
       "      <td>372058</td>\n",
       "      <td>Your Name.</td>\n",
       "      <td>Romance,Animation,Drama</td>\n",
       "      <td>ja</td>\n",
       "      <td>High schoolers Mitsuha and Taki are complete s...</td>\n",
       "      <td>158.270</td>\n",
       "      <td>2016-08-26</td>\n",
       "      <td>8.5</td>\n",
       "      <td>8895</td>\n",
       "    </tr>\n",
       "  </tbody>\n",
       "</table>\n",
       "</div>"
      ],
      "text/plain": [
       "       id                        title                     genre  \\\n",
       "0     278     The Shawshank Redemption               Drama,Crime   \n",
       "1   19404  Dilwale Dulhania Le Jayenge      Comedy,Drama,Romance   \n",
       "2     238                The Godfather               Drama,Crime   \n",
       "3     424             Schindler's List         Drama,History,War   \n",
       "4     240       The Godfather: Part II               Drama,Crime   \n",
       "5  667257            Impossible Things              Family,Drama   \n",
       "6     129                Spirited Away  Animation,Family,Fantasy   \n",
       "7  730154               Your Eyes Tell             Romance,Drama   \n",
       "8  372754     Dou kyu sei – Classmates         Romance,Animation   \n",
       "9  372058                   Your Name.   Romance,Animation,Drama   \n",
       "\n",
       "  original_language                                           overview  \\\n",
       "0                en  Framed in the 1940s for the double murder of h...   \n",
       "1                hi  Raj is a rich, carefree, happy-go-lucky second...   \n",
       "2                en  Spanning the years 1945 to 1955, a chronicle o...   \n",
       "3                en  The true story of how businessman Oskar Schind...   \n",
       "4                en  In the continuing saga of the Corleone crime f...   \n",
       "5                es  Matilde is a woman who, after the death of her...   \n",
       "6                ja  A young girl, Chihiro, becomes trapped in a st...   \n",
       "7                ja  A tragic accident lead to Kaori's blindness, b...   \n",
       "8                ja  Rihito Sajo, an honor student with a perfect s...   \n",
       "9                ja  High schoolers Mitsuha and Taki are complete s...   \n",
       "\n",
       "   popularity release_date  vote_average  vote_count  \n",
       "0      94.075   1994-09-23           8.7       21862  \n",
       "1      25.408   1995-10-19           8.7        3731  \n",
       "2      90.585   1972-03-14           8.7       16280  \n",
       "3      44.761   1993-12-15           8.6       12959  \n",
       "4      57.749   1974-12-20           8.6        9811  \n",
       "5      14.358   2021-06-17           8.6         255  \n",
       "6      92.056   2001-07-20           8.5       13093  \n",
       "7      51.345   2020-10-23           8.5         339  \n",
       "8      14.285   2016-02-20           8.5         239  \n",
       "9     158.270   2016-08-26           8.5        8895  "
      ]
     },
     "execution_count": 3,
     "metadata": {},
     "output_type": "execute_result"
    }
   ],
   "source": [
    "movies.head(10)"
   ]
  },
  {
   "cell_type": "code",
   "execution_count": 4,
   "id": "0e951594",
   "metadata": {},
   "outputs": [],
   "source": [
    "movies = movies[['id','title','genre','overview']]"
   ]
  },
  {
   "cell_type": "code",
   "execution_count": 5,
   "id": "2fb5252d",
   "metadata": {},
   "outputs": [],
   "source": [
    "movies['tag'] = movies['genre'] + movies['overview']"
   ]
  },
  {
   "cell_type": "code",
   "execution_count": 6,
   "id": "fb3a382f",
   "metadata": {},
   "outputs": [],
   "source": [
    "new_df = movies.drop(columns = ['genre','overview'])"
   ]
  },
  {
   "cell_type": "code",
   "execution_count": 7,
   "id": "7b83e703",
   "metadata": {},
   "outputs": [
    {
     "data": {
      "text/html": [
       "<div>\n",
       "<style scoped>\n",
       "    .dataframe tbody tr th:only-of-type {\n",
       "        vertical-align: middle;\n",
       "    }\n",
       "\n",
       "    .dataframe tbody tr th {\n",
       "        vertical-align: top;\n",
       "    }\n",
       "\n",
       "    .dataframe thead th {\n",
       "        text-align: right;\n",
       "    }\n",
       "</style>\n",
       "<table border=\"1\" class=\"dataframe\">\n",
       "  <thead>\n",
       "    <tr style=\"text-align: right;\">\n",
       "      <th></th>\n",
       "      <th>id</th>\n",
       "      <th>title</th>\n",
       "      <th>tag</th>\n",
       "    </tr>\n",
       "  </thead>\n",
       "  <tbody>\n",
       "    <tr>\n",
       "      <th>0</th>\n",
       "      <td>278</td>\n",
       "      <td>The Shawshank Redemption</td>\n",
       "      <td>Drama,CrimeFramed in the 1940s for the double ...</td>\n",
       "    </tr>\n",
       "    <tr>\n",
       "      <th>1</th>\n",
       "      <td>19404</td>\n",
       "      <td>Dilwale Dulhania Le Jayenge</td>\n",
       "      <td>Comedy,Drama,RomanceRaj is a rich, carefree, h...</td>\n",
       "    </tr>\n",
       "    <tr>\n",
       "      <th>2</th>\n",
       "      <td>238</td>\n",
       "      <td>The Godfather</td>\n",
       "      <td>Drama,CrimeSpanning the years 1945 to 1955, a ...</td>\n",
       "    </tr>\n",
       "    <tr>\n",
       "      <th>3</th>\n",
       "      <td>424</td>\n",
       "      <td>Schindler's List</td>\n",
       "      <td>Drama,History,WarThe true story of how busines...</td>\n",
       "    </tr>\n",
       "    <tr>\n",
       "      <th>4</th>\n",
       "      <td>240</td>\n",
       "      <td>The Godfather: Part II</td>\n",
       "      <td>Drama,CrimeIn the continuing saga of the Corle...</td>\n",
       "    </tr>\n",
       "    <tr>\n",
       "      <th>...</th>\n",
       "      <td>...</td>\n",
       "      <td>...</td>\n",
       "      <td>...</td>\n",
       "    </tr>\n",
       "    <tr>\n",
       "      <th>9995</th>\n",
       "      <td>10196</td>\n",
       "      <td>The Last Airbender</td>\n",
       "      <td>Action,Adventure,FantasyThe story follows the ...</td>\n",
       "    </tr>\n",
       "    <tr>\n",
       "      <th>9996</th>\n",
       "      <td>331446</td>\n",
       "      <td>Sharknado 3: Oh Hell No!</td>\n",
       "      <td>Action,TV Movie,Science Fiction,Comedy,Adventu...</td>\n",
       "    </tr>\n",
       "    <tr>\n",
       "      <th>9997</th>\n",
       "      <td>13995</td>\n",
       "      <td>Captain America</td>\n",
       "      <td>Action,Science Fiction,WarDuring World War II,...</td>\n",
       "    </tr>\n",
       "    <tr>\n",
       "      <th>9998</th>\n",
       "      <td>2312</td>\n",
       "      <td>In the Name of the King: A Dungeon Siege Tale</td>\n",
       "      <td>Adventure,Fantasy,Action,DramaA man named Farm...</td>\n",
       "    </tr>\n",
       "    <tr>\n",
       "      <th>9999</th>\n",
       "      <td>455957</td>\n",
       "      <td>Domino</td>\n",
       "      <td>Thriller,Action,CrimeSeeking justice for his p...</td>\n",
       "    </tr>\n",
       "  </tbody>\n",
       "</table>\n",
       "<p>10000 rows × 3 columns</p>\n",
       "</div>"
      ],
      "text/plain": [
       "          id                                          title  \\\n",
       "0        278                       The Shawshank Redemption   \n",
       "1      19404                    Dilwale Dulhania Le Jayenge   \n",
       "2        238                                  The Godfather   \n",
       "3        424                               Schindler's List   \n",
       "4        240                         The Godfather: Part II   \n",
       "...      ...                                            ...   \n",
       "9995   10196                             The Last Airbender   \n",
       "9996  331446                       Sharknado 3: Oh Hell No!   \n",
       "9997   13995                                Captain America   \n",
       "9998    2312  In the Name of the King: A Dungeon Siege Tale   \n",
       "9999  455957                                         Domino   \n",
       "\n",
       "                                                    tag  \n",
       "0     Drama,CrimeFramed in the 1940s for the double ...  \n",
       "1     Comedy,Drama,RomanceRaj is a rich, carefree, h...  \n",
       "2     Drama,CrimeSpanning the years 1945 to 1955, a ...  \n",
       "3     Drama,History,WarThe true story of how busines...  \n",
       "4     Drama,CrimeIn the continuing saga of the Corle...  \n",
       "...                                                 ...  \n",
       "9995  Action,Adventure,FantasyThe story follows the ...  \n",
       "9996  Action,TV Movie,Science Fiction,Comedy,Adventu...  \n",
       "9997  Action,Science Fiction,WarDuring World War II,...  \n",
       "9998  Adventure,Fantasy,Action,DramaA man named Farm...  \n",
       "9999  Thriller,Action,CrimeSeeking justice for his p...  \n",
       "\n",
       "[10000 rows x 3 columns]"
      ]
     },
     "execution_count": 7,
     "metadata": {},
     "output_type": "execute_result"
    }
   ],
   "source": [
    "new_df"
   ]
  },
  {
   "cell_type": "code",
   "execution_count": 8,
   "id": "73a3c73d",
   "metadata": {},
   "outputs": [],
   "source": [
    "from sklearn.feature_extraction.text  import CountVectorizer"
   ]
  },
  {
   "cell_type": "code",
   "execution_count": 9,
   "id": "febf765e",
   "metadata": {},
   "outputs": [],
   "source": [
    "cv = CountVectorizer(max_features= 10000,stop_words='english')"
   ]
  },
  {
   "cell_type": "code",
   "execution_count": 10,
   "id": "794ef453",
   "metadata": {},
   "outputs": [],
   "source": [
    "vector =cv.fit_transform(new_df['tag'].values.astype('U')).toarray"
   ]
  },
  {
   "cell_type": "code",
   "execution_count": 11,
   "id": "6f11d3ea",
   "metadata": {},
   "outputs": [
    {
     "data": {
      "text/plain": [
       "<bound method _cs_matrix.toarray of <10000x10000 sparse matrix of type '<class 'numpy.int64'>'\n",
       "\twith 230600 stored elements in Compressed Sparse Row format>>"
      ]
     },
     "execution_count": 11,
     "metadata": {},
     "output_type": "execute_result"
    }
   ],
   "source": [
    "vector"
   ]
  },
  {
   "cell_type": "code",
   "execution_count": 12,
   "id": "05bfd61a",
   "metadata": {},
   "outputs": [],
   "source": [
    "from sklearn.metrics.pairwise import cosine_similarity"
   ]
  },
  {
   "cell_type": "code",
   "execution_count": 13,
   "id": "f53bc8f7",
   "metadata": {},
   "outputs": [],
   "source": [
    "similarity = cosine_similarity(vector())"
   ]
  },
  {
   "cell_type": "code",
   "execution_count": 14,
   "id": "9c036e3a",
   "metadata": {},
   "outputs": [],
   "source": [
    "def recommand(movie):\n",
    "    index = new_df[new_df['title'] == movie].index[0]\n",
    "    distance = sorted(list(enumerate(similarity[index])),reverse = True,key = lambda vector:vector[1])\n",
    "    for i in distance[0:5]:\n",
    "        print(new_df.iloc[i[0]].title)"
   ]
  },
  {
   "cell_type": "code",
   "execution_count": 15,
   "id": "b2d59dcc",
   "metadata": {},
   "outputs": [
    {
     "name": "stdout",
     "output_type": "stream",
     "text": [
      "Your Name.\n",
      "XOXO\n",
      "Who Would You Take to a Deserted Island?\n",
      "Crazy About Her\n",
      "One Night at McCool's\n"
     ]
    }
   ],
   "source": [
    "recommand('Your Name.')"
   ]
  },
  {
   "cell_type": "code",
   "execution_count": 16,
   "id": "0605273c",
   "metadata": {},
   "outputs": [],
   "source": [
    "import pickle"
   ]
  },
  {
   "cell_type": "code",
   "execution_count": 17,
   "id": "f0e0aab0",
   "metadata": {},
   "outputs": [],
   "source": [
    "pickle.dump(new_df,open('movies_list.pkl','wb'))"
   ]
  },
  {
   "cell_type": "code",
   "execution_count": 18,
   "id": "732d0995",
   "metadata": {},
   "outputs": [],
   "source": [
    "pickle.dump(similarity,open('similarity.pkl','wb'))"
   ]
  }
 ],
 "metadata": {
  "kernelspec": {
   "display_name": "Python 3 (ipykernel)",
   "language": "python",
   "name": "python3"
  },
  "language_info": {
   "codemirror_mode": {
    "name": "ipython",
    "version": 3
   },
   "file_extension": ".py",
   "mimetype": "text/x-python",
   "name": "python",
   "nbconvert_exporter": "python",
   "pygments_lexer": "ipython3",
   "version": "3.11.4"
  }
 },
 "nbformat": 4,
 "nbformat_minor": 5
}
